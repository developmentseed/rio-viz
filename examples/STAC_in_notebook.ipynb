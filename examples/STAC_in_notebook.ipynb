{
 "cells": [
  {
   "cell_type": "markdown",
   "id": "b6633f73",
   "metadata": {},
   "source": [
    "### Use rio-viz in Jupyter Notebook"
   ]
  },
  {
   "cell_type": "code",
   "execution_count": 1,
   "id": "55915667",
   "metadata": {},
   "outputs": [],
   "source": [
    "import time\n",
    "import httpx\n",
    "\n",
    "from ipyleaflet import Map, ScaleControl, FullScreenControl, SplitMapControl, TileLayer\n",
    "\n",
    "from rio_tiler.io import STACReader\n",
    "from rio_viz.app import Client"
   ]
  },
  {
   "cell_type": "code",
   "execution_count": 2,
   "id": "5c65b3d5",
   "metadata": {},
   "outputs": [
    {
     "name": "stdout",
     "output_type": "stream",
     "text": [
      "Client is alive:  True\n"
     ]
    },
    {
     "name": "stderr",
     "output_type": "stream",
     "text": [
      "/Users/vincentsarago/Dev/vincentsarago/rasterio/rasterio/io.py:140: NotGeoreferencedWarning: Dataset has no geotransform, gcps, or rpcs. The identity matrix will be returned.\n",
      "  return writer(mempath, 'w+', driver=driver, width=width,\n",
      "ERROR 4: `/vsimem/c74073e6-8449-4f78-9e5e-389b559826fb/c74073e6-8449-4f78-9e5e-389b559826fb.tif' not recognized as a supported file format.\n",
      "ERROR 4: `/vsimem/58df3647-f31c-496f-94f7-e56fde7c62f4/58df3647-f31c-496f-94f7-e56fde7c62f4.tif' not recognized as a supported file format.\n"
     ]
    }
   ],
   "source": [
    "# Create rio-viz Client (using server-thread to launch backgroud task)\n",
    "client = Client(\n",
    "    \"https://earth-search.aws.element84.com/v0/collections/sentinel-s2-l2a-cogs/items/S2A_34SGA_20200318_0_L2A\",\n",
    "    reader=STACReader,\n",
    "    # By default STACReader min/max zoom is 0->24\n",
    "    # Knowledge of the Sentinel-2 data tell us it's more 8->14\n",
    "    minzoom=8,\n",
    "    maxzoom=14,\n",
    ")\n",
    "\n",
    "# Gives some time for the server to setup\n",
    "time.sleep(1)\n",
    "\n",
    "# Check that client is running\n",
    "print(\"Client is alive: \", client.server.is_alive())"
   ]
  },
  {
   "cell_type": "code",
   "execution_count": 4,
   "id": "4070b77d",
   "metadata": {
    "scrolled": false
   },
   "outputs": [
    {
     "data": {
      "application/vnd.jupyter.widget-view+json": {
       "model_id": "cb65b37a12e74253a1d19386e3f569d4",
       "version_major": 2,
       "version_minor": 0
      },
      "text/plain": [
       "Map(center=[32.00833055925221, 23.794854319372455], controls=(ZoomControl(options=['position', 'zoom_in_text',…"
      ]
     },
     "metadata": {},
     "output_type": "display_data"
    }
   ],
   "source": [
    "tilejson = httpx.get(\n",
    "    f\"{client.endpoint}/tilejson.json\",\n",
    "    params = {\n",
    "        \"assets\": [\"B04\", \"B03\", \"B02\"],\n",
    "        \"rescale\": \"0,10000\"\n",
    "    }\n",
    ").json()\n",
    "\n",
    "bounds = ((client.bounds[0], client.bounds[2]), (client.bounds[1], client.bounds[3]))\n",
    "center = ((client.bounds[1] + client.bounds[3]) / 2, (client.bounds[0] + client.bounds[2]) / 2)\n",
    "\n",
    "layer = TileLayer(\n",
    "    url=tilejson[\"tiles\"][0],\n",
    "    min_zoom=tilejson[\"minzoom\"],\n",
    "    max_zoom=tilejson[\"maxzoom\"],\n",
    "    bounds=bounds,\n",
    ")\n",
    "\n",
    "\n",
    "# Make the ipyleaflet map\n",
    "m = Map(center=center, zoom=client.minzoom)\n",
    "m.add_layer(layer)\n",
    "m"
   ]
  },
  {
   "cell_type": "code",
   "execution_count": 18,
   "id": "85e4c1e0",
   "metadata": {
    "scrolled": false
   },
   "outputs": [
    {
     "data": {
      "application/vnd.jupyter.widget-view+json": {
       "model_id": "e34da2079cc54b56b7973f9c8f7ee568",
       "version_major": 2,
       "version_minor": 0
      },
      "text/plain": [
       "Map(center=[32.00833055925221, 23.794854319372455], controls=(ZoomControl(options=['position', 'zoom_in_text',…"
      ]
     },
     "metadata": {},
     "output_type": "display_data"
    },
    {
     "name": "stderr",
     "output_type": "stream",
     "text": [
      "ERROR 4: `/vsimem/935dc790-e673-44bf-8e4e-ca3331fda444/935dc790-e673-44bf-8e4e-ca3331fda444.tif' not recognized as a supported file format.\n",
      "ERROR 4: `/vsimem/34dd160d-3737-4ed0-88da-b31abc1a2e62/34dd160d-3737-4ed0-88da-b31abc1a2e62.tif' not recognized as a supported file format.\n",
      "ERROR 4: `/vsimem/53daa08b-a033-4b8d-9323-75f7db0ed228/53daa08b-a033-4b8d-9323-75f7db0ed228.tif' not recognized as a supported file format.\n"
     ]
    }
   ],
   "source": [
    "left_tilejson = httpx.get(\n",
    "    f\"{client.endpoint}/tilejson.json\",\n",
    "    params = {\n",
    "        \"assets\": [\"B04\", \"B03\", \"B02\"],\n",
    "        \"rescale\": \"0,10000\"\n",
    "    }\n",
    ").json()\n",
    "\n",
    "right_tilejson = httpx.get(\n",
    "    f\"{client.endpoint}/tilejson.json\",\n",
    "    params = {\n",
    "        \"assets\": [\"B05\", \"B04\", \"B03\"],\n",
    "        \"rescale\": \"0,10000\"\n",
    "    }\n",
    ").json()\n",
    "\n",
    "bounds = ((client.bounds[0], client.bounds[2]), (client.bounds[1], client.bounds[3]))\n",
    "center = ((client.bounds[1] + client.bounds[3]) / 2, (client.bounds[0] + client.bounds[2]) / 2)\n",
    "\n",
    "left = TileLayer(\n",
    "    url=left_tilejson[\"tiles\"][0],\n",
    "    min_zoom=left_tilejson[\"minzoom\"],\n",
    "    max_zoom=left_tilejson[\"maxzoom\"],\n",
    "    bounds=bounds,\n",
    ")\n",
    "\n",
    "right = TileLayer(\n",
    "    url=right_tilejson[\"tiles\"][0],\n",
    "    min_zoom=right_tilejson[\"minzoom\"],\n",
    "    max_zoom=right_tilejson[\"maxzoom\"],\n",
    "    bounds=bounds,\n",
    "\n",
    ")\n",
    "\n",
    "# Make the ipyleaflet map\n",
    "m = Map(center=center, zoom=client.minzoom)\n",
    "control = SplitMapControl(left_layer=left, right_layer=right)\n",
    "\n",
    "m.add_control(control)\n",
    "m.add_control(ScaleControl(position='bottomleft'))\n",
    "m.add_control(FullScreenControl())\n",
    "m"
   ]
  },
  {
   "cell_type": "code",
   "execution_count": null,
   "id": "2069c2f2",
   "metadata": {},
   "outputs": [],
   "source": []
  }
 ],
 "metadata": {
  "kernelspec": {
   "display_name": "Python 3 (ipykernel)",
   "language": "python",
   "name": "python3"
  },
  "language_info": {
   "codemirror_mode": {
    "name": "ipython",
    "version": 3
   },
   "file_extension": ".py",
   "mimetype": "text/x-python",
   "name": "python",
   "nbconvert_exporter": "python",
   "pygments_lexer": "ipython3",
   "version": "3.8.9"
  },
  "vscode": {
   "interpreter": {
    "hash": "b0fa6594d8f4cbf19f97940f81e996739fb7646882a419484c72d19e05852a7e"
   }
  }
 },
 "nbformat": 4,
 "nbformat_minor": 5
}
